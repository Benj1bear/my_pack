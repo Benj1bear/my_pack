{
 "cells": [
  {
   "cell_type": "code",
   "execution_count": null,
   "id": "4938d40a",
   "metadata": {},
   "outputs": [],
   "source": [
    "import pandas as pd\n",
    "from my_pack import install\n",
    "\n",
    "# override setup defaults or not; up to you\n",
    "#defaults={\"version\":\"'0.1.0'\",\"description\":\"'contains useful function'\",\"author\":\"'author'\",\"email\":\"'email'\"}\n",
    "#pd.Series(defaults).to_pickle(\"PYTHON_SETUP_DEFAULTS.pkl\")\n",
    "\n",
    "# install the package so it can be used elsewhere\n",
    "install(\"my_pack\")"
   ]
  },
  {
   "cell_type": "code",
   "execution_count": null,
   "id": "145ec29b",
   "metadata": {},
   "outputs": [],
   "source": [
    "# reinstall due to renaming the file path\n",
    "from my_pack import install\n",
    "install(\"my_pack\",setup=False)"
   ]
  },
  {
   "cell_type": "code",
   "execution_count": null,
   "id": "6333a777",
   "metadata": {},
   "outputs": [],
   "source": [
    "# if wanting to uninstall back to how the repo is\n",
    "from my_pack import uninstall\n",
    "uninstall(\"my_pack\",keep_setup=False)"
   ]
  }
 ],
 "metadata": {
  "kernelspec": {
   "display_name": "Python 3 (ipykernel)",
   "language": "python",
   "name": "python3"
  },
  "language_info": {
   "codemirror_mode": {
    "name": "ipython",
    "version": 3
   },
   "file_extension": ".py",
   "mimetype": "text/x-python",
   "name": "python",
   "nbconvert_exporter": "python",
   "pygments_lexer": "ipython3",
   "version": "3.11.5"
  }
 },
 "nbformat": 4,
 "nbformat_minor": 5
}
