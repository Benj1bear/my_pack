{
 "cells": [
  {
   "cell_type": "code",
   "execution_count": null,
   "id": "7ac2e3d5",
   "metadata": {},
   "outputs": [],
   "source": [
    "# if you want to change the default setup\n",
    "import pandas as pd\n",
    "pd.Series({\"version\":\"'0.1.0'\",\n",
    "           \"description\":\"'contains useful function'\",\n",
    "           \"author\":\"'author'\",\n",
    "           \"email\":\"'email'\"}\n",
    "         ).to_pickle(\"PYTHON_SETUP_DEFAULTS.pkl\")"
   ]
  },
  {
   "cell_type": "code",
   "execution_count": null,
   "id": "8d6859f6",
   "metadata": {},
   "outputs": [],
   "source": [
    "# to reinstall due to file path changing\n",
    "from my_pack import install\n",
    "install(\"my_pack\",setup=False)"
   ]
  },
  {
   "cell_type": "code",
   "execution_count": null,
   "id": "2b88f34d",
   "metadata": {},
   "outputs": [],
   "source": [
    "# to uninstall\n",
    "from my_pack import uninstall\n",
    "# it will automatically find the directory for you so you just need the name of your package\n",
    "uninstall(\"my_pack\",keep_setup=False)"
   ]
  }
 ],
 "metadata": {
  "kernelspec": {
   "display_name": "Python 3 (ipykernel)",
   "language": "python",
   "name": "python3"
  },
  "language_info": {
   "codemirror_mode": {
    "name": "ipython",
    "version": 3
   },
   "file_extension": ".py",
   "mimetype": "text/x-python",
   "name": "python",
   "nbconvert_exporter": "python",
   "pygments_lexer": "ipython3",
   "version": "3.11.5"
  }
 },
 "nbformat": 4,
 "nbformat_minor": 5
}
